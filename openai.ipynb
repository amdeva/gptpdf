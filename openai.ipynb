{
 "cells": [
  {
   "cell_type": "code",
   "execution_count": null,
   "id": "877e26f2-d453-4310-b361-f4026a183ff3",
   "metadata": {
    "tags": []
   },
   "outputs": [],
   "source": [
    "print(\"Start\")"
   ]
  },
  {
   "cell_type": "code",
   "execution_count": null,
   "id": "5facae8f-a3a5-4759-b6a6-b304c7b7a193",
   "metadata": {
    "collapsed": true,
    "jupyter": {
     "outputs_hidden": true
    },
    "tags": []
   },
   "outputs": [],
   "source": [
    "pip install langchain"
   ]
  },
  {
   "cell_type": "code",
   "execution_count": null,
   "id": "dd750299-357b-4e90-96f4-df0100a74d27",
   "metadata": {
    "collapsed": true,
    "jupyter": {
     "outputs_hidden": true
    },
    "tags": []
   },
   "outputs": [],
   "source": [
    "pip install openai"
   ]
  },
  {
   "cell_type": "code",
   "execution_count": null,
   "id": "4a26ab16-0b5b-4b53-ad80-fd34ca931464",
   "metadata": {
    "collapsed": true,
    "jupyter": {
     "outputs_hidden": true
    },
    "tags": []
   },
   "outputs": [],
   "source": [
    "pip install nltk"
   ]
  },
  {
   "cell_type": "code",
   "execution_count": null,
   "id": "39fb353f-c8ec-4882-94ae-e372bf6bfc85",
   "metadata": {
    "collapsed": true,
    "jupyter": {
     "outputs_hidden": true
    },
    "tags": []
   },
   "outputs": [],
   "source": [
    "pip install unstructured"
   ]
  },
  {
   "cell_type": "code",
   "execution_count": null,
   "id": "3aaa98ed-7d85-4825-bfff-e8749876b614",
   "metadata": {
    "collapsed": true,
    "jupyter": {
     "outputs_hidden": true
    },
    "tags": []
   },
   "outputs": [],
   "source": [
    "pip install pdfminer.six"
   ]
  },
  {
   "cell_type": "code",
   "execution_count": null,
   "id": "1d3fdeb3-db46-4b44-97fc-c7382d298c68",
   "metadata": {
    "collapsed": true,
    "jupyter": {
     "outputs_hidden": true
    },
    "tags": []
   },
   "outputs": [],
   "source": [
    "pip install chromadb"
   ]
  },
  {
   "cell_type": "code",
   "execution_count": null,
   "id": "168a74f5-a026-4d17-b3fc-c8a51906f5ce",
   "metadata": {
    "collapsed": true,
    "jupyter": {
     "outputs_hidden": true
    },
    "tags": []
   },
   "outputs": [],
   "source": [
    "pip install tiktoken"
   ]
  },
  {
   "cell_type": "code",
   "execution_count": null,
   "id": "b29bb7e9-53ae-4966-b06f-2624061ab1fe",
   "metadata": {
    "tags": []
   },
   "outputs": [],
   "source": [
    "import langchain\n",
    "import os\n",
    "import openai\n",
    "from langchain.embeddings import OpenAIEmbeddings\n",
    "from langchain.vectorstores import Chroma\n",
    "from langchain import OpenAI, VectorDBQA\n",
    "from langchain.document_loaders import UnstructuredFileLoader\n",
    "from langchain.text_splitter import CharacterTextSplitter\n",
    "import nltk\n",
    "nltk.download(\"punkt\")\n",
    "\n",
    "os.environ[\"OPENAI_API_KEY\"] = \"todefine\""
   ]
  },
  {
   "cell_type": "markdown",
   "id": "e377eb10-1aae-4bec-80b3-c176620b19e0",
   "metadata": {},
   "source": [
    "# Load PDF"
   ]
  },
  {
   "cell_type": "code",
   "execution_count": null,
   "id": "51859983-e3e0-43f7-b575-a4665bdaaf3f",
   "metadata": {
    "tags": []
   },
   "outputs": [],
   "source": [
    "loader = UnstructuredFileLoader('doc1.pdf')\n",
    "documents= loader.load()\n",
    "\n",
    "# if you want to load file as a list of elements then only do this\n",
    "#loader = UnstructuredFileLoader('SamplePDF.pdf', mode='elements')"
   ]
  },
  {
   "cell_type": "markdown",
   "id": "d1291ee6-c5cc-4002-943b-fd22dfb156d4",
   "metadata": {},
   "source": [
    "# Split Documents Into Chunks"
   ]
  },
  {
   "cell_type": "code",
   "execution_count": null,
   "id": "a2593d61-f486-4288-86f3-e0d24a8db05e",
   "metadata": {
    "tags": []
   },
   "outputs": [],
   "source": [
    "text_splitter = CharacterTextSplitter(chunk_size=800, chunk_overlap=0)\n",
    "texts = text_splitter.split_documents(documents)"
   ]
  },
  {
   "cell_type": "markdown",
   "id": "4f5695f6-9a27-4df5-bc81-77668c1ca2ed",
   "metadata": {},
   "source": [
    "# Prepare Model And Embeddings"
   ]
  },
  {
   "cell_type": "code",
   "execution_count": null,
   "id": "d2bc4aa0-087e-4586-9f89-2182046b6ce2",
   "metadata": {
    "tags": []
   },
   "outputs": [],
   "source": [
    "embeddings = OpenAIEmbeddings(openai_api_key = os.environ['OPENAI_API_KEY'])\n",
    "doc_search = Chroma.from_documents(texts,embeddings)\n",
    "chain = VectorDBQA.from_chain_type(llm=OpenAI(), chain_type=\"stuff\", vectorstore=doc_search)"
   ]
  },
  {
   "cell_type": "markdown",
   "id": "693d1ea5-86fb-4a33-898a-bd790d32963f",
   "metadata": {},
   "source": [
    "# Create Query And Get Response"
   ]
  },
  {
   "cell_type": "code",
   "execution_count": null,
   "id": "5206536f-77d6-4904-bab9-94e473e0ba67",
   "metadata": {
    "tags": []
   },
   "outputs": [],
   "source": [
    "query = \"Question sur le sujet ?\"\n",
    "chain.run(query)"
   ]
  },
  {
   "cell_type": "code",
   "execution_count": null,
   "id": "1ba1dca1-af75-4f21-89b4-5eda9b67e432",
   "metadata": {},
   "outputs": [],
   "source": []
  }
 ],
 "metadata": {
  "kernelspec": {
   "display_name": "Python 3 (ipykernel)",
   "language": "python",
   "name": "python3"
  },
  "language_info": {
   "codemirror_mode": {
    "name": "ipython",
    "version": 3
   },
   "file_extension": ".py",
   "mimetype": "text/x-python",
   "name": "python",
   "nbconvert_exporter": "python",
   "pygments_lexer": "ipython3",
   "version": "3.10.10"
  }
 },
 "nbformat": 4,
 "nbformat_minor": 5
}
